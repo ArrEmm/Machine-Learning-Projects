{
  "nbformat": 4,
  "nbformat_minor": 0,
  "metadata": {
    "colab": {
      "provenance": [],
      "gpuType": "T4",
      "authorship_tag": "ABX9TyOJlulZyI8BtyuQPPkfr0sB",
      "include_colab_link": true
    },
    "kernelspec": {
      "name": "python3",
      "display_name": "Python 3"
    },
    "language_info": {
      "name": "python"
    },
    "accelerator": "GPU"
  },
  "cells": [
    {
      "cell_type": "markdown",
      "metadata": {
        "id": "view-in-github",
        "colab_type": "text"
      },
      "source": [
        "<a href=\"https://colab.research.google.com/github/ArrEmm/Machine-Learning-Projects/blob/main/Emotion_detection.ipynb\" target=\"_parent\"><img src=\"https://colab.research.google.com/assets/colab-badge.svg\" alt=\"Open In Colab\"/></a>"
      ]
    },
    {
      "cell_type": "code",
      "source": [
        "from google.colab import drive\n",
        "drive.mount('/content/drive')"
      ],
      "metadata": {
        "colab": {
          "base_uri": "https://localhost:8080/"
        },
        "id": "SVnyO5U8uYHo",
        "outputId": "e4d9ad5c-11fd-4e83-e08f-6cf47b415c90"
      },
      "execution_count": 3,
      "outputs": [
        {
          "output_type": "stream",
          "name": "stdout",
          "text": [
            "Mounted at /content/drive\n"
          ]
        }
      ]
    },
    {
      "cell_type": "code",
      "execution_count": 6,
      "metadata": {
        "id": "TdJhDgGG_sv0"
      },
      "outputs": [],
      "source": [
        "from PIL import Image\n",
        "import os\n",
        "\n",
        "def convert_images_to_bw(input_path, output_path):\n",
        "    # Create output directory if it doesn't exist\n",
        "    if not os.path.exists(output_path):\n",
        "        os.makedirs(output_path)\n",
        "    for emotion in os.listdir(input_path):\n",
        "        emotion_input_path=os.path.join(input_path,emotion)\n",
        "        emotion_output_path=os.path.join(output_path,emotion)\n",
        "        if not os.path.exists(emotion_output_path):\n",
        "            os.makedirs(emotion_output_path)\n",
        "        # Loop through each image in the input dataset\n",
        "        for filename in os.listdir(emotion_input_path):\n",
        "            image_path = os.path.join(emotion_input_path, filename)\n",
        "\n",
        "            # Open the image\n",
        "            with Image.open(image_path) as img:\n",
        "                # Convert the image to black and white\n",
        "                bw_img = img.convert('L')\n",
        "\n",
        "                # Save the black and white image to the output folder\n",
        "                output_emotion_image_path = os.path.join(output_path, emotion)\n",
        "                output_image_path = os.path.join(output_emotion_image_path, filename)\n",
        "                bw_img.save(output_image_path)\n",
        "\n",
        "# Specify the paths to your input (color) and output (black and white) datasets\n",
        "input_train_dataset_path = '/content/drive/MyDrive/Dataset/train'\n",
        "output_train_dataset_path = '/content/drive/MyDrive/BAndWDataset/train'\n",
        "input_test_dataset_path = '/content/drive/MyDrive/Dataset/test'\n",
        "output_test_dataset_path = '/content/drive/MyDrive/BAndWDataset/test'\n",
        "\n",
        "# Call the function to convert images and save them\n",
        "convert_images_to_bw(input_train_dataset_path, output_train_dataset_path)\n",
        "convert_images_to_bw(input_test_dataset_path, output_test_dataset_path)"
      ]
    },
    {
      "cell_type": "code",
      "source": [
        "pip install tensorflow"
      ],
      "metadata": {
        "colab": {
          "base_uri": "https://localhost:8080/"
        },
        "id": "cB0J33nQ3QDy",
        "outputId": "2858c413-a61a-49e8-f08c-79a84c87adf4"
      },
      "execution_count": 7,
      "outputs": [
        {
          "output_type": "stream",
          "name": "stdout",
          "text": [
            "Requirement already satisfied: tensorflow in /usr/local/lib/python3.10/dist-packages (2.15.0)\n",
            "Requirement already satisfied: absl-py>=1.0.0 in /usr/local/lib/python3.10/dist-packages (from tensorflow) (1.4.0)\n",
            "Requirement already satisfied: astunparse>=1.6.0 in /usr/local/lib/python3.10/dist-packages (from tensorflow) (1.6.3)\n",
            "Requirement already satisfied: flatbuffers>=23.5.26 in /usr/local/lib/python3.10/dist-packages (from tensorflow) (23.5.26)\n",
            "Requirement already satisfied: gast!=0.5.0,!=0.5.1,!=0.5.2,>=0.2.1 in /usr/local/lib/python3.10/dist-packages (from tensorflow) (0.5.4)\n",
            "Requirement already satisfied: google-pasta>=0.1.1 in /usr/local/lib/python3.10/dist-packages (from tensorflow) (0.2.0)\n",
            "Requirement already satisfied: h5py>=2.9.0 in /usr/local/lib/python3.10/dist-packages (from tensorflow) (3.9.0)\n",
            "Requirement already satisfied: libclang>=13.0.0 in /usr/local/lib/python3.10/dist-packages (from tensorflow) (16.0.6)\n",
            "Requirement already satisfied: ml-dtypes~=0.2.0 in /usr/local/lib/python3.10/dist-packages (from tensorflow) (0.2.0)\n",
            "Requirement already satisfied: numpy<2.0.0,>=1.23.5 in /usr/local/lib/python3.10/dist-packages (from tensorflow) (1.23.5)\n",
            "Requirement already satisfied: opt-einsum>=2.3.2 in /usr/local/lib/python3.10/dist-packages (from tensorflow) (3.3.0)\n",
            "Requirement already satisfied: packaging in /usr/local/lib/python3.10/dist-packages (from tensorflow) (23.2)\n",
            "Requirement already satisfied: protobuf!=4.21.0,!=4.21.1,!=4.21.2,!=4.21.3,!=4.21.4,!=4.21.5,<5.0.0dev,>=3.20.3 in /usr/local/lib/python3.10/dist-packages (from tensorflow) (3.20.3)\n",
            "Requirement already satisfied: setuptools in /usr/local/lib/python3.10/dist-packages (from tensorflow) (67.7.2)\n",
            "Requirement already satisfied: six>=1.12.0 in /usr/local/lib/python3.10/dist-packages (from tensorflow) (1.16.0)\n",
            "Requirement already satisfied: termcolor>=1.1.0 in /usr/local/lib/python3.10/dist-packages (from tensorflow) (2.4.0)\n",
            "Requirement already satisfied: typing-extensions>=3.6.6 in /usr/local/lib/python3.10/dist-packages (from tensorflow) (4.5.0)\n",
            "Requirement already satisfied: wrapt<1.15,>=1.11.0 in /usr/local/lib/python3.10/dist-packages (from tensorflow) (1.14.1)\n",
            "Requirement already satisfied: tensorflow-io-gcs-filesystem>=0.23.1 in /usr/local/lib/python3.10/dist-packages (from tensorflow) (0.35.0)\n",
            "Requirement already satisfied: grpcio<2.0,>=1.24.3 in /usr/local/lib/python3.10/dist-packages (from tensorflow) (1.60.0)\n",
            "Requirement already satisfied: tensorboard<2.16,>=2.15 in /usr/local/lib/python3.10/dist-packages (from tensorflow) (2.15.1)\n",
            "Requirement already satisfied: tensorflow-estimator<2.16,>=2.15.0 in /usr/local/lib/python3.10/dist-packages (from tensorflow) (2.15.0)\n",
            "Requirement already satisfied: keras<2.16,>=2.15.0 in /usr/local/lib/python3.10/dist-packages (from tensorflow) (2.15.0)\n",
            "Requirement already satisfied: wheel<1.0,>=0.23.0 in /usr/local/lib/python3.10/dist-packages (from astunparse>=1.6.0->tensorflow) (0.42.0)\n",
            "Requirement already satisfied: google-auth<3,>=1.6.3 in /usr/local/lib/python3.10/dist-packages (from tensorboard<2.16,>=2.15->tensorflow) (2.17.3)\n",
            "Requirement already satisfied: google-auth-oauthlib<2,>=0.5 in /usr/local/lib/python3.10/dist-packages (from tensorboard<2.16,>=2.15->tensorflow) (1.2.0)\n",
            "Requirement already satisfied: markdown>=2.6.8 in /usr/local/lib/python3.10/dist-packages (from tensorboard<2.16,>=2.15->tensorflow) (3.5.1)\n",
            "Requirement already satisfied: requests<3,>=2.21.0 in /usr/local/lib/python3.10/dist-packages (from tensorboard<2.16,>=2.15->tensorflow) (2.31.0)\n",
            "Requirement already satisfied: tensorboard-data-server<0.8.0,>=0.7.0 in /usr/local/lib/python3.10/dist-packages (from tensorboard<2.16,>=2.15->tensorflow) (0.7.2)\n",
            "Requirement already satisfied: werkzeug>=1.0.1 in /usr/local/lib/python3.10/dist-packages (from tensorboard<2.16,>=2.15->tensorflow) (3.0.1)\n",
            "Requirement already satisfied: cachetools<6.0,>=2.0.0 in /usr/local/lib/python3.10/dist-packages (from google-auth<3,>=1.6.3->tensorboard<2.16,>=2.15->tensorflow) (5.3.2)\n",
            "Requirement already satisfied: pyasn1-modules>=0.2.1 in /usr/local/lib/python3.10/dist-packages (from google-auth<3,>=1.6.3->tensorboard<2.16,>=2.15->tensorflow) (0.3.0)\n",
            "Requirement already satisfied: rsa<5,>=3.1.4 in /usr/local/lib/python3.10/dist-packages (from google-auth<3,>=1.6.3->tensorboard<2.16,>=2.15->tensorflow) (4.9)\n",
            "Requirement already satisfied: requests-oauthlib>=0.7.0 in /usr/local/lib/python3.10/dist-packages (from google-auth-oauthlib<2,>=0.5->tensorboard<2.16,>=2.15->tensorflow) (1.3.1)\n",
            "Requirement already satisfied: charset-normalizer<4,>=2 in /usr/local/lib/python3.10/dist-packages (from requests<3,>=2.21.0->tensorboard<2.16,>=2.15->tensorflow) (3.3.2)\n",
            "Requirement already satisfied: idna<4,>=2.5 in /usr/local/lib/python3.10/dist-packages (from requests<3,>=2.21.0->tensorboard<2.16,>=2.15->tensorflow) (3.6)\n",
            "Requirement already satisfied: urllib3<3,>=1.21.1 in /usr/local/lib/python3.10/dist-packages (from requests<3,>=2.21.0->tensorboard<2.16,>=2.15->tensorflow) (2.0.7)\n",
            "Requirement already satisfied: certifi>=2017.4.17 in /usr/local/lib/python3.10/dist-packages (from requests<3,>=2.21.0->tensorboard<2.16,>=2.15->tensorflow) (2023.11.17)\n",
            "Requirement already satisfied: MarkupSafe>=2.1.1 in /usr/local/lib/python3.10/dist-packages (from werkzeug>=1.0.1->tensorboard<2.16,>=2.15->tensorflow) (2.1.3)\n",
            "Requirement already satisfied: pyasn1<0.6.0,>=0.4.6 in /usr/local/lib/python3.10/dist-packages (from pyasn1-modules>=0.2.1->google-auth<3,>=1.6.3->tensorboard<2.16,>=2.15->tensorflow) (0.5.1)\n",
            "Requirement already satisfied: oauthlib>=3.0.0 in /usr/local/lib/python3.10/dist-packages (from requests-oauthlib>=0.7.0->google-auth-oauthlib<2,>=0.5->tensorboard<2.16,>=2.15->tensorflow) (3.2.2)\n"
          ]
        }
      ]
    },
    {
      "cell_type": "code",
      "source": [
        "import tensorflow as tf\n",
        "from tensorflow.keras import layers, models\n",
        "from tensorflow.keras.preprocessing.image import ImageDataGenerator\n",
        "\n",
        "# Define the CNN model\n",
        "model = models.Sequential()\n",
        "model.add(layers.Conv2D(32, (3, 3), activation='relu', input_shape=(48, 48, 1)))\n",
        "model.add(layers.MaxPooling2D((2, 2)))\n",
        "model.add(layers.Conv2D(64, (3, 3), activation='relu'))\n",
        "model.add(layers.MaxPooling2D((2, 2)))\n",
        "model.add(layers.Conv2D(128, (3, 3), activation='relu'))\n",
        "model.add(layers.MaxPooling2D((2, 2)))\n",
        "model.add(layers.Flatten())\n",
        "model.add(layers.Dense(128, activation='relu'))\n",
        "model.add(layers.Dense(7, activation='softmax'))  # Assuming 7 emotion classes\n",
        "\n",
        "# Compile the model\n",
        "model.compile(optimizer='adam',\n",
        "              loss='categorical_crossentropy',\n",
        "              metrics=['accuracy'])\n",
        "\n",
        "# Load and preprocess the dataset using ImageDataGenerator\n",
        "train_datagen = ImageDataGenerator(rescale=1./255, shear_range=0.2, zoom_range=0.2, horizontal_flip=True)\n",
        "\n",
        "train_generator = train_datagen.flow_from_directory(\n",
        "    '/content/drive/MyDrive/BAndWDataset/train',\n",
        "    target_size=(48, 48),\n",
        "    batch_size=32,\n",
        "    color_mode='grayscale',\n",
        "    class_mode='categorical'\n",
        ")\n",
        "\n",
        "# Train the model\n",
        "model.fit(train_generator, epochs=10)\n",
        "\n",
        "# Save the trained model\n",
        "model.save('emotion_detection_model.h5')\n"
      ],
      "metadata": {
        "colab": {
          "base_uri": "https://localhost:8080/"
        },
        "id": "QtqgyYcguVeg",
        "outputId": "10119078-d332-4cc4-a88e-df36e022e681"
      },
      "execution_count": 9,
      "outputs": [
        {
          "output_type": "stream",
          "name": "stdout",
          "text": [
            "Found 28709 images belonging to 7 classes.\n",
            "Epoch 1/10\n",
            "898/898 [==============================] - 145s 156ms/step - loss: 1.6773 - accuracy: 0.3290\n",
            "Epoch 2/10\n",
            "898/898 [==============================] - 100s 112ms/step - loss: 1.4453 - accuracy: 0.4421\n",
            "Epoch 3/10\n",
            "898/898 [==============================] - 99s 111ms/step - loss: 1.3377 - accuracy: 0.4895\n",
            "Epoch 4/10\n",
            "898/898 [==============================] - 100s 111ms/step - loss: 1.2713 - accuracy: 0.5172\n",
            "Epoch 5/10\n",
            "898/898 [==============================] - 101s 113ms/step - loss: 1.2351 - accuracy: 0.5292\n",
            "Epoch 6/10\n",
            "898/898 [==============================] - 102s 113ms/step - loss: 1.1961 - accuracy: 0.5477\n",
            "Epoch 7/10\n",
            "898/898 [==============================] - 102s 113ms/step - loss: 1.1704 - accuracy: 0.5561\n",
            "Epoch 8/10\n",
            "898/898 [==============================] - 101s 112ms/step - loss: 1.1440 - accuracy: 0.5682\n",
            "Epoch 9/10\n",
            "898/898 [==============================] - 102s 113ms/step - loss: 1.1210 - accuracy: 0.5762\n",
            "Epoch 10/10\n",
            "898/898 [==============================] - 100s 111ms/step - loss: 1.1027 - accuracy: 0.5839\n"
          ]
        },
        {
          "output_type": "stream",
          "name": "stderr",
          "text": [
            "/usr/local/lib/python3.10/dist-packages/keras/src/engine/training.py:3103: UserWarning: You are saving your model as an HDF5 file via `model.save()`. This file format is considered legacy. We recommend using instead the native Keras format, e.g. `model.save('my_model.keras')`.\n",
            "  saving_api.save_model(\n"
          ]
        }
      ]
    },
    {
      "cell_type": "code",
      "source": [
        "from sklearn.metrics import classification_report, confusion_matrix\n",
        "import numpy as np\n",
        "\n",
        "# Load the trained model\n",
        "model = models.load_model('emotion_detection_model.h5')\n",
        "\n",
        "# Load and preprocess the test dataset using ImageDataGenerator\n",
        "test_datagen = ImageDataGenerator(rescale=1./255)\n",
        "\n",
        "test_generator = test_datagen.flow_from_directory(\n",
        "    '/content/drive/MyDrive/BAndWDataset/test',\n",
        "    target_size=(48, 48),\n",
        "    batch_size=32,\n",
        "    color_mode='grayscale',\n",
        "    class_mode='categorical',\n",
        "    shuffle=False  # Ensure that the order of predictions matches the order of true labels\n",
        ")\n",
        "\n",
        "# Evaluate the model on the test set\n",
        "eval_results = model.evaluate(test_generator)\n",
        "\n",
        "# Make predictions on the test set\n",
        "predictions = model.predict(test_generator)\n",
        "\n",
        "# Convert predictions and true labels to class labels\n",
        "predicted_labels = np.argmax(predictions, axis=1)\n",
        "true_labels = test_generator.classes\n",
        "\n",
        "# Print evaluation results\n",
        "print(\"Test Accuracy: {:.2f}%\".format(eval_results[1] * 100))\n",
        "\n",
        "# Calculate and print classification report\n",
        "class_report = classification_report(true_labels, predicted_labels, target_names=test_generator.class_indices)\n",
        "print(\"Classification Report:\\n\", class_report)\n",
        "\n",
        "# Calculate and print confusion matrix\n",
        "conf_matrix = confusion_matrix(true_labels, predicted_labels)\n",
        "print(\"Confusion Matrix:\\n\", conf_matrix)\n"
      ],
      "metadata": {
        "colab": {
          "base_uri": "https://localhost:8080/"
        },
        "id": "OuFR9YoY3Z_m",
        "outputId": "d7389ac2-f32c-4d40-af70-1979d0bd19f8"
      },
      "execution_count": 10,
      "outputs": [
        {
          "output_type": "stream",
          "name": "stdout",
          "text": [
            "Found 7178 images belonging to 7 classes.\n",
            "225/225 [==============================] - 20s 89ms/step - loss: 1.1528 - accuracy: 0.5670\n",
            "225/225 [==============================] - 20s 88ms/step\n",
            "Test Accuracy: 56.70%\n",
            "Classification Report:\n",
            "               precision    recall  f1-score   support\n",
            "\n",
            "       angry       0.42      0.61      0.49       958\n",
            "   disgusted       0.78      0.06      0.12       111\n",
            "     fearful       0.38      0.33      0.35      1024\n",
            "       happy       0.83      0.77      0.80      1774\n",
            "     neutral       0.53      0.54      0.54      1233\n",
            "         sad       0.46      0.41      0.44      1247\n",
            "   surprised       0.69      0.70      0.70       831\n",
            "\n",
            "    accuracy                           0.57      7178\n",
            "   macro avg       0.58      0.49      0.49      7178\n",
            "weighted avg       0.58      0.57      0.57      7178\n",
            "\n",
            "Confusion Matrix:\n",
            " [[ 583    0  103   33  108  110   21]\n",
            " [  71    7   11    2    8   10    2]\n",
            " [ 212    0  341   49  109  194  119]\n",
            " [ 114    0   66 1370  103   74   47]\n",
            " [ 145    1  107   82  669  188   41]\n",
            " [ 220    0  172   74  235  517   29]\n",
            " [  57    1  100   36   35   19  583]]\n"
          ]
        }
      ]
    },
    {
      "cell_type": "code",
      "source": [
        "import cv2"
      ],
      "metadata": {
        "id": "wBrC4MrK9eCy"
      },
      "execution_count": 11,
      "outputs": []
    },
    {
      "cell_type": "code",
      "source": [
        "import matplotlib.pyplot as plt"
      ],
      "metadata": {
        "id": "35jY6I6n-lUj"
      },
      "execution_count": 12,
      "outputs": []
    },
    {
      "cell_type": "code",
      "source": [
        "img1= cv2.imread('/content/im7.png')\n",
        "print(img1)\n"
      ],
      "metadata": {
        "colab": {
          "base_uri": "https://localhost:8080/"
        },
        "id": "q0Y0lQtw-U25",
        "outputId": "f390773c-47a8-49b4-f433-dabf7ba0d200"
      },
      "execution_count": 13,
      "outputs": [
        {
          "output_type": "stream",
          "name": "stdout",
          "text": [
            "[[[234 234 234]\n",
            "  [233 233 233]\n",
            "  [228 228 228]\n",
            "  ...\n",
            "  [225 225 225]\n",
            "  [229 229 229]\n",
            "  [224 224 224]]\n",
            "\n",
            " [[229 229 229]\n",
            "  [230 230 230]\n",
            "  [232 232 232]\n",
            "  ...\n",
            "  [224 224 224]\n",
            "  [221 221 221]\n",
            "  [218 218 218]]\n",
            "\n",
            " [[232 232 232]\n",
            "  [228 228 228]\n",
            "  [235 235 235]\n",
            "  ...\n",
            "  [226 226 226]\n",
            "  [226 226 226]\n",
            "  [226 226 226]]\n",
            "\n",
            " ...\n",
            "\n",
            " [[215 215 215]\n",
            "  [181 181 181]\n",
            "  [149 149 149]\n",
            "  ...\n",
            "  [108 108 108]\n",
            "  [159 159 159]\n",
            "  [169 169 169]]\n",
            "\n",
            " [[166 166 166]\n",
            "  [140 140 140]\n",
            "  [123 123 123]\n",
            "  ...\n",
            "  [104 104 104]\n",
            "  [164 164 164]\n",
            "  [169 169 169]]\n",
            "\n",
            " [[142 142 142]\n",
            "  [123 123 123]\n",
            "  [118 118 118]\n",
            "  ...\n",
            "  [ 95  95  95]\n",
            "  [164 164 164]\n",
            "  [169 169 169]]]\n"
          ]
        }
      ]
    },
    {
      "cell_type": "code",
      "source": [
        "plt.imshow(img1[:,:,::-1])\n",
        "plt.show()"
      ],
      "metadata": {
        "colab": {
          "base_uri": "https://localhost:8080/",
          "height": 431
        },
        "id": "6ACYvDge-p-Z",
        "outputId": "8d8f5302-c2a8-4249-ead3-54e53b25e43f"
      },
      "execution_count": 14,
      "outputs": [
        {
          "output_type": "display_data",
          "data": {
            "text/plain": [
              "<Figure size 640x480 with 1 Axes>"
            ],
            "image/png": "[encoded data removed]"
          },
          "metadata": {}
        }
      ]
    },
    {
      "cell_type": "code",
      "source": [
        "from tensorflow.keras.preprocessing import image\n",
        "import numpy as np\n",
        "\n",
        "# Load the trained model\n",
        "model = models.load_model('emotion_detection_model.h5')\n",
        "\n",
        "img_path = '/content/im7.png'  # Replace with the path to your preprocessed grayscale image\n",
        "img = image.load_img(img_path, target_size=(48, 48), color_mode='grayscale')\n",
        "img_array = image.img_to_array(img)\n",
        "img_array = np.expand_dims(img_array, axis=0)\n",
        "img_array /= 255.0  # Normalize the pixel values\n",
        "\n",
        "# Make predictions on the single image\n",
        "predictions = model.predict(img_array)\n",
        "\n",
        "# Convert predictions to class label\n",
        "predicted_label = np.argmax(predictions[0])\n",
        "\n",
        "# Get the emotion class based on the predicted label\n",
        "emotion_classes = {0: 'Angry', 1: 'Disgust', 2: 'Fear', 3: 'Happy', 4: 'Sad', 5: 'Surprise', 6: 'Neutral'}\n",
        "predicted_emotion = emotion_classes[predicted_label]\n",
        "\n",
        "# Print the predicted emotion\n",
        "print(\"Predicted Emotion: {}\".format(predicted_emotion))"
      ],
      "metadata": {
        "colab": {
          "base_uri": "https://localhost:8080/"
        },
        "id": "mZBjJveV-tF7",
        "outputId": "f608a64e-7567-4b1c-c036-4e265711a335"
      },
      "execution_count": 17,
      "outputs": [
        {
          "output_type": "stream",
          "name": "stdout",
          "text": [
            "1/1 [==============================] - 1s 547ms/step\n",
            "Predicted Emotion: Happy\n"
          ]
        }
      ]
    },
    {
      "cell_type": "code",
      "source": [],
      "metadata": {
        "id": "G38XDqe3_jxl"
      },
      "execution_count": null,
      "outputs": []
    }
  ]
}